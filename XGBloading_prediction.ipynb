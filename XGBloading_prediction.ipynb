{
  "nbformat": 4,
  "nbformat_minor": 0,
  "metadata": {
    "colab": {
      "provenance": []
    },
    "kernelspec": {
      "name": "python3",
      "display_name": "Python 3"
    },
    "language_info": {
      "name": "python"
    }
  },
  "cells": [
    {
      "cell_type": "code",
      "execution_count": 1,
      "metadata": {
        "colab": {
          "base_uri": "https://localhost:8080/"
        },
        "id": "rm7OvZbLYSgT",
        "outputId": "85f29150-2f93-43cc-f2dd-9a11f215fbef"
      },
      "outputs": [
        {
          "output_type": "stream",
          "name": "stdout",
          "text": [
            "Models loaded successfully!\n"
          ]
        }
      ],
      "source": [
        "import joblib\n",
        "\n",
        "# Load the saved models\n",
        "best_xgb_high = joblib.load('best_xgb_high_model.pkl')\n",
        "best_xgb_low = joblib.load('best_xgb_low_model.pkl')\n",
        "\n",
        "print(\"Models loaded successfully!\")\n"
      ]
    },
    {
      "cell_type": "code",
      "source": [
        "import pandas as pd\n",
        "import numpy as np\n",
        "\n",
        "def predict_for_date(input_date, model_high, model_low):\n",
        "    \"\"\"\n",
        "    Predict high and low prices for a specific date based on the trained XGBoost models.\n",
        "\n",
        "    :param input_date: A date string in 'YYYY-MM-DD' format.\n",
        "    :param model_high: The trained model for high prices.\n",
        "    :param model_low: The trained model for low prices.\n",
        "    :return: Predicted high and low prices for the given date.\n",
        "    \"\"\"\n",
        "\n",
        "    # Convert input date to datetime object\n",
        "    input_date = pd.to_datetime(input_date)\n",
        "\n",
        "    # Create the necessary features for this date\n",
        "    features = {\n",
        "        'year': input_date.year,\n",
        "        'month': input_date.month,\n",
        "        'day_of_month': input_date.day,\n",
        "        'day_of_week': input_date.weekday(),\n",
        "        'week_of_year': input_date.isocalendar().week,\n",
        "        'quarter': input_date.quarter,\n",
        "        'close_rolling_mean_30': np.nan,  # You should calculate the real rolling mean for this date\n",
        "        'high_rolling_mean_30': np.nan,  # Same for this one\n",
        "        'low_rolling_mean_30': np.nan,  # And this one\n",
        "        'close_rolling_std_30': np.nan,  # Same for rolling std\n",
        "        'high_rolling_std_30': np.nan,  # Same for rolling std\n",
        "        'low_rolling_std_30': np.nan,  # Same for rolling std\n",
        "        'price_diff': np.nan,  # Need the actual data for this day\n",
        "        'close_open_diff': np.nan,  # Need actual data\n",
        "        'price_range': np.nan,  # Need actual data\n",
        "        'close_50ma': np.nan,  # Need actual data\n",
        "        'close_200ma': np.nan,  # Need actual data\n",
        "        'high_lag_1': np.nan,  # Same, need previous day data\n",
        "        'low_lag_1': np.nan,  # Same, need previous day data\n",
        "        'close_lag_1': np.nan   # Same, need previous day data\n",
        "    }\n",
        "\n",
        "    # Convert features dictionary to a DataFrame\n",
        "    input_features = pd.DataFrame([features])\n",
        "\n",
        "    # Make predictions for high and low prices using the models\n",
        "    predicted_high = model_high.predict(input_features)\n",
        "    predicted_low = model_low.predict(input_features)\n",
        "\n",
        "    # Adjust predictions if low price is greater than high price\n",
        "    if predicted_low > predicted_high:\n",
        "        # Swap predicted values if low is greater than high\n",
        "        predicted_high, predicted_low = predicted_low, predicted_high\n",
        "\n",
        "    predicted_high = predicted_high / 10\n",
        "    predicted_low = predicted_low / 10\n",
        "\n",
        "    # Return the predictions\n",
        "    return predicted_high[0], predicted_low[0]\n",
        "\n",
        "# Example Usage: Predict prices for a specific date\n",
        "input_date = '2024-03-12'  # Replace with the date you want to predict for\n",
        "predicted_high, predicted_low = predict_for_date(input_date, best_xgb_high, best_xgb_low)\n",
        "\n",
        "# Print the results\n",
        "print(f\"Predicted High Price for {input_date}: {predicted_high:.4f}\")\n",
        "print(f\"Predicted Low Price for {input_date}: {predicted_low:.4f}\")\n"
      ],
      "metadata": {
        "colab": {
          "base_uri": "https://localhost:8080/"
        },
        "id": "4SXOAE-_Yas0",
        "outputId": "bd032236-e663-439b-e2b7-4ba75ed0d0bb"
      },
      "execution_count": 6,
      "outputs": [
        {
          "output_type": "stream",
          "name": "stdout",
          "text": [
            "Predicted High Price for 2024-03-12: 190.5798\n",
            "Predicted Low Price for 2024-03-12: 190.5738\n"
          ]
        }
      ]
    }
  ]
}