{
  "nbformat": 4,
  "nbformat_minor": 0,
  "metadata": {
    "colab": {
      "provenance": []
    },
    "kernelspec": {
      "name": "python3",
      "display_name": "Python 3"
    },
    "language_info": {
      "name": "python"
    }
  },
  "cells": [
    {
      "cell_type": "code",
      "source": [
        "import pandas as pd\n",
        "import numpy as np\n",
        "import joblib\n",
        "\n",
        "# Load the saved models\n",
        "best_xgb_high = joblib.load('best_xgb_high_model.pkl')\n",
        "best_xgb_low = joblib.load('best_xgb_low_model.pkl')\n",
        "\n",
        "print(\"Models loaded successfully!\")\n",
        "\n",
        "def get_historical_data_for_date(input_date):\n",
        "    \"\"\"\n",
        "    Retrieve historical data for the required date. This should return data that includes\n",
        "    the previous days' prices as well as the last 30 days' closing, high, and low prices\n",
        "    for rolling calculations.\n",
        "    \"\"\"\n",
        "    # Load your stock data (this assumes you're loading it from a CSV file or database)\n",
        "    # Replace this with the actual path to your stock data\n",
        "    df = pd.read_csv(\"/content/tesla_stock_data_final_cleaneddata(noduplciates_nomissingvalues).csv\", parse_dates=['timestamp'])\n",
        "    df['timestamp'] = pd.to_datetime(df['timestamp'])\n",
        "\n",
        "    # Ensure the timestamp column is in UTC (if it's not already)\n",
        "    if df['timestamp'].dt.tz is None:\n",
        "        df['timestamp'] = df['timestamp'].dt.tz_localize('UTC')\n",
        "\n",
        "    # Convert input_date (without time) to datetime with time set to midnight\n",
        "    input_date = pd.to_datetime(input_date)  # Convert to datetime\n",
        "    input_date = input_date.replace(hour=0, minute=0, second=0, microsecond=0)  # Set time to midnight\n",
        "\n",
        "    # Convert input_date to UTC if it's naive\n",
        "    if input_date.tz is None:\n",
        "        input_date = input_date.tz_localize('UTC')\n",
        "\n",
        "    # Filter the dataframe for the data up to the input_date\n",
        "    df = df[df['timestamp'] <= input_date]\n",
        "\n",
        "    # Sort by timestamp to ensure correct order\n",
        "    df = df.sort_values('timestamp')\n",
        "\n",
        "    # Get the last 30 rows for rolling features (or use a window of your choice)\n",
        "    historical_data = df.tail(30)\n",
        "\n",
        "    return historical_data\n",
        "\n",
        "def calculate_features_for_date(input_date):\n",
        "    \"\"\"\n",
        "    Calculate all the required features for the given input_date based on historical data.\n",
        "    \"\"\"\n",
        "    # Get historical data up to the input_date\n",
        "    historical_data = get_historical_data_for_date(input_date)\n",
        "\n",
        "    # Compute rolling features (30-day window)\n",
        "    close_rolling_mean_30 = historical_data['close'].mean()\n",
        "    high_rolling_mean_30 = historical_data['high'].mean()\n",
        "    low_rolling_mean_30 = historical_data['low'].mean()\n",
        "\n",
        "    close_rolling_std_30 = historical_data['close'].std()\n",
        "    high_rolling_std_30 = historical_data['high'].std()\n",
        "    low_rolling_std_30 = historical_data['low'].std()\n",
        "\n",
        "    # Calculate other features\n",
        "    price_diff = historical_data['high'].iloc[-1] - historical_data['low'].iloc[-1]\n",
        "    close_open_diff = historical_data['close'].iloc[-1] - historical_data['open'].iloc[-1]\n",
        "    price_range = historical_data['high'].iloc[-1] - historical_data['low'].iloc[-1]\n",
        "\n",
        "    close_50ma = historical_data['close'].tail(50).mean() if len(historical_data) >= 50 else np.nan\n",
        "    close_200ma = historical_data['close'].tail(200).mean() if len(historical_data) >= 200 else np.nan\n",
        "\n",
        "    # Lag features (previous day's data)\n",
        "    high_lag_1 = historical_data['high'].iloc[-2] if len(historical_data) > 1 else np.nan\n",
        "    low_lag_1 = historical_data['low'].iloc[-2] if len(historical_data) > 1 else np.nan\n",
        "    close_lag_1 = historical_data['close'].iloc[-2] if len(historical_data) > 1 else np.nan\n",
        "\n",
        "    # Create a dictionary with features\n",
        "    features = {\n",
        "        'year': input_date.year,\n",
        "        'month': input_date.month,\n",
        "        'day_of_month': input_date.day,\n",
        "        'day_of_week': input_date.weekday(),\n",
        "        'week_of_year': input_date.isocalendar().week,\n",
        "        'quarter': input_date.quarter,\n",
        "        'close_rolling_mean_30': close_rolling_mean_30,\n",
        "        'high_rolling_mean_30': high_rolling_mean_30,\n",
        "        'low_rolling_mean_30': low_rolling_mean_30,\n",
        "        'close_rolling_std_30': close_rolling_std_30,\n",
        "        'high_rolling_std_30': high_rolling_std_30,\n",
        "        'low_rolling_std_30': low_rolling_std_30,\n",
        "        'price_diff': price_diff,\n",
        "        'close_open_diff': close_open_diff,\n",
        "        'price_range': price_range,\n",
        "        'close_50ma': close_50ma,\n",
        "        'close_200ma': close_200ma,\n",
        "        'high_lag_1': high_lag_1,\n",
        "        'low_lag_1': low_lag_1,\n",
        "        'close_lag_1': close_lag_1\n",
        "    }\n",
        "\n",
        "    return features\n",
        "\n",
        "def predict_for_date(input_date, model_high, model_low):\n",
        "    \"\"\"\n",
        "    Predict high and low prices for a specific date based on the trained models.\n",
        "    \"\"\"\n",
        "    # Convert input date to datetime object and ensure it is in UTC\n",
        "    input_date = pd.to_datetime(input_date)\n",
        "\n",
        "    # Get the features for the input date\n",
        "    features = calculate_features_for_date(input_date)\n",
        "\n",
        "    # Convert features dictionary to a DataFrame\n",
        "    input_features = pd.DataFrame([features])\n",
        "\n",
        "    # Make predictions for high and low prices using the models\n",
        "    predicted_high = model_high.predict(input_features)\n",
        "    predicted_low = model_low.predict(input_features)\n",
        "\n",
        "    # Adjust predictions if low price is greater than high price\n",
        "    if predicted_low > predicted_high:\n",
        "        # Swap predicted values if low is greater than high\n",
        "        predicted_high, predicted_low = predicted_low, predicted_high\n",
        "\n",
        "    # Inverse scale predictions (if necessary, depending on scaling)\n",
        "    predicted_high = predicted_high[0]\n",
        "    predicted_low = predicted_low[0]\n",
        "\n",
        "    return predicted_high, predicted_low\n",
        "\n",
        "# Example Usage: Predict prices for a specific date\n",
        "input_date = '2024-12-22'  # Replace with the date you want to predict for\n",
        "predicted_high, predicted_low = predict_for_date(input_date, best_xgb_high, best_xgb_low)\n",
        "\n",
        "# Print the results\n",
        "print(f\"Predicted High Price for {input_date}: {predicted_high:.4f}\")\n",
        "print(f\"Predicted Low Price for {input_date}: {predicted_low:.4f}\")\n"
      ],
      "metadata": {
        "colab": {
          "base_uri": "https://localhost:8080/"
        },
        "id": "BL5zMB6FfzWh",
        "outputId": "25f51e07-34b5-449b-a448-9d98c2c0e059"
      },
      "execution_count": 4,
      "outputs": [
        {
          "output_type": "stream",
          "name": "stdout",
          "text": [
            "Models loaded successfully!\n",
            "Predicted High Price for 2024-12-22: 307.7722\n",
            "Predicted Low Price for 2024-12-22: 305.5839\n"
          ]
        }
      ]
    },
    {
      "cell_type": "code",
      "source": [
        "# Example Usage: Predict prices for a specific date\n",
        "input_date = '2025-05-21'  # Replace with the date you want to predict for\n",
        "predicted_high, predicted_low = predict_for_date(input_date, best_xgb_high, best_xgb_low)\n",
        "\n",
        "# Print the results\n",
        "print(f\"Predicted High Price for {input_date}: {predicted_high:.4f}\")\n",
        "print(f\"Predicted Low Price for {input_date}: {predicted_low:.4f}\")"
      ],
      "metadata": {
        "colab": {
          "base_uri": "https://localhost:8080/"
        },
        "id": "apM-0Vntf-sA",
        "outputId": "8f22c0ea-59a4-43ff-f716-8c9c3f1befff"
      },
      "execution_count": 6,
      "outputs": [
        {
          "output_type": "stream",
          "name": "stdout",
          "text": [
            "Predicted High Price for 2025-05-21: 311.0294\n",
            "Predicted Low Price for 2025-05-21: 303.1140\n"
          ]
        }
      ]
    }
  ]
}